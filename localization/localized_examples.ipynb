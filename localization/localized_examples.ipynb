{
 "cells": [
  {
   "cell_type": "code",
   "execution_count": 1,
   "id": "c777d178-1704-4403-b7ef-dedc75becbd7",
   "metadata": {},
   "outputs": [],
   "source": [
    "import xarray as xr\n",
    "import re\n",
    "\n",
    "ds_opt1 = xr.Dataset(attrs={\n",
    "\"locale_default\":\"en-CA\",\n",
    "\"locale_others\": \"fr: fr-CA es: es-MX jp: jp-JP\",\n",
    "\"title\": \"English Title\",\n",
    "\"title_fr\": \"Titre française\",\n",
    "\"title_es\": \"Título en español\",\n",
    "\"title_jp\": \"日本語のタイトル\", # I wanted something very much deeper in the Basic Multilingual Plane\n",
    "})\n",
    "\n",
    "# my largest argument for option 2 is that everything comes from a controlled list or standard\n",
    "# except the colon (though maybe that's xml)\n",
    "# I personally want to avoid the underscore as a seperator due to its use in the normal attributes\n",
    "ds_opt2 = xr.Dataset(attrs={\n",
    "\"locale_default\":\"en-CA\", # standard BCP 47 locale string\n",
    "\"locale_others\": \"fr-CA, es-MX, jp, tlh\", # http standard language priority list (without weights)\n",
    "\"title\": \"English Title\",\n",
    "\"fr-CA:title\": \"Titre française\", # two controlled vocabs seperated by :\n",
    "\"es-MX:title\": \"Título en español\", # two controlled vocabs seperated by :\n",
    "\"jp:title\": \"日本語のタイトル\", # W3C says to use the shortest tag needed\n",
    "\"tlh:title\": \"Heghlu’meH QaQ jajvam\", # Klingon: Today is a good day to die\n",
    "})\n",
    "\n",
    "ds_opt3 = xr.Dataset(attrs={\n",
    "\"locale_default\":\"en-CA\", # standard BCP 47 locale string\n",
    "\"locale_others\": \"fr-CA es-MX jp tlh\", # no other spaces then delimiting ones\n",
    "\"title\": \"English Title\",\n",
    "\"title[fr-CA]\": \"Titre française\", # two controlled vocabs one inside []\n",
    "\"title[es-MX]\": \"Título en español\",\n",
    "\"title[jp]\": \"日本語のタイトル\", # W3C says to use the shortest tag needed\n",
    "\"title[tlh]\": \"Heghlu’meH QaQ jajvam\", # Klingon: Today is a good day to die\n",
    "})"
   ]
  },
  {
   "cell_type": "code",
   "execution_count": 2,
   "id": "c48c7384-8871-48f6-b61f-5109b7c0005a",
   "metadata": {},
   "outputs": [],
   "source": [
    "def rfc4647_lookup(locale:str, options, default=\"en\"):\n",
    "    # options is an iterable with string elements, but I don't want to go full type hints\n",
    "    # implements https://datatracker.ietf.org/doc/html/rfc4647#section-3.4\n",
    "    # but badly\n",
    "    # note this is case insensitive as per the standard\n",
    "    lower_locale = locale.lower()\n",
    "    tokens = lower_locale.split(\"-\")\n",
    "    lowered_options = {}\n",
    "    for option in options:\n",
    "        option_tokens = option.lower().split(\"-\")\n",
    "        while option_tokens:\n",
    "            lowered_options[\"-\".join(option_tokens)] = option\n",
    "            option_tokens = option_tokens[:-1]\n",
    "\n",
    "    while tokens:\n",
    "        if (match := \"-\".join(tokens)) in lowered_options:\n",
    "            return lowered_options[match]\n",
    "        tokens = tokens[:-1]\n",
    "    return default"
   ]
  },
  {
   "cell_type": "code",
   "execution_count": 3,
   "id": "77af2f60-7d90-48c7-a5e9-9003294a13c8",
   "metadata": {},
   "outputs": [],
   "source": [
    "def get_localized_attrs_opt1(attrs, locale):\n",
    "    default = attrs.get(\"locale_default\", \"en\")\n",
    "    _others = attrs.get(\"locale_others\", \"\")\n",
    "\n",
    "    others = dict()\n",
    "\n",
    "    # we need to make a suffix lookup table\n",
    "    # no good delimieter, go to regex\n",
    "    for match in re.finditer(f\"([a-zA-Z]+: \\S+)\", _others):\n",
    "        # we do want this inverted\n",
    "        value, key = (m.strip() for m in match.group(0).split(\":\"))\n",
    "        # prepending the _ prefix to the value will be useful later\n",
    "        others[key] = f\"_{value}\"\n",
    "\n",
    "    matched_locale = rfc4647_lookup(locale, {default, *others.keys()})\n",
    "\n",
    "    filtered = {}\n",
    "    for key, value in attrs.items():\n",
    "        if key.endswith(tuple(others.values())):\n",
    "            # ignore localized strings\n",
    "            continue\n",
    "        try:\n",
    "            filtered[key] = attrs[f\"{key}{others[matched_locale]}\"]\n",
    "        except KeyError:\n",
    "            filtered[key] = value\n",
    "    return filtered"
   ]
  },
  {
   "cell_type": "code",
   "execution_count": 4,
   "id": "21e56000-dfca-499f-8d7f-6de653eb0519",
   "metadata": {},
   "outputs": [],
   "source": [
    "def get_localized_attrs_opt2(attrs, locale):\n",
    "    default = attrs.get(\"locale_default\", \"en\")\n",
    "    others = [other.strip() for other in attrs.get(\"locale_others\", \"\").split(\",\")]\n",
    "\n",
    "    # There is probably a locale matching library (or maybe giant regex)\n",
    "    # basically find the best matching locale from the user requested one to one that exists in the actual file\n",
    "    matched_locale = rfc4647_lookup(locale, {default, *others})\n",
    "\n",
    "    filtered = {}\n",
    "    for key, value in attrs.items():\n",
    "        if \":\" in key:\n",
    "            # ignore localized strings\n",
    "            # \":\" is a reserved char in localized files, only localized attrs can have it\n",
    "            continue\n",
    "        try:\n",
    "            # since both parrts of the attr name are from controlled lists\n",
    "            # we can just construct the key directly\n",
    "            filtered[key] = attrs[f\"{matched_locale}:{key}\"]\n",
    "        except KeyError:\n",
    "            filtered[key] = value\n",
    "    return filtered"
   ]
  },
  {
   "cell_type": "code",
   "execution_count": 21,
   "id": "90cbfa68-cf01-4a3c-8320-c8fc63ddaa10",
   "metadata": {},
   "outputs": [],
   "source": [
    "def get_localized_attrs_opt3(attrs, locale):\n",
    "    default = attrs.get(\"locale_default\", \"en\")\n",
    "    others = attrs.get(\"locale_others\", \"\").split(\" \") # this is simpler than option 2\n",
    "\n",
    "    matched_locale = rfc4647_lookup(locale, {default, *others})\n",
    "\n",
    "    filtered = {}\n",
    "    for key, value in attrs.items():\n",
    "        if \"[\" in key and \"]\" in key:\n",
    "            # ignore localized strings\n",
    "            continue\n",
    "        try:\n",
    "            # since both parrts of the attr name are from controlled lists\n",
    "            # we can just construct the key directly like in option 3\n",
    "            filtered[key] = attrs[f\"{key}[{matched_locale}]\"]\n",
    "        except KeyError:\n",
    "            filtered[key] = value\n",
    "    return filtered"
   ]
  },
  {
   "cell_type": "code",
   "execution_count": 6,
   "id": "674c4194-c425-4baf-ab30-4dce15f5d8b4",
   "metadata": {},
   "outputs": [
    {
     "data": {
      "text/plain": [
       "{'locale_default': 'en-CA',\n",
       " 'locale_others': 'fr: fr-CA es: es-MX jp: jp-JP',\n",
       " 'title': 'Titre française'}"
      ]
     },
     "execution_count": 6,
     "metadata": {},
     "output_type": "execute_result"
    }
   ],
   "source": [
    "# Perfect match\n",
    "get_localized_attrs_opt1(ds_opt1.attrs, \"fr-CA\")"
   ]
  },
  {
   "cell_type": "code",
   "execution_count": 7,
   "id": "c7e252af-16f2-466f-bba2-736ad57e95e2",
   "metadata": {},
   "outputs": [
    {
     "data": {
      "text/plain": [
       "{'locale_default': 'en-CA',\n",
       " 'locale_others': 'fr: fr-CA es: es-MX jp: jp-JP',\n",
       " 'title': 'Titre française'}"
      ]
     },
     "execution_count": 7,
     "metadata": {},
     "output_type": "execute_result"
    }
   ],
   "source": [
    "# Just language\n",
    "get_localized_attrs_opt1(ds_opt1.attrs, \"fr\")"
   ]
  },
  {
   "cell_type": "code",
   "execution_count": 8,
   "id": "ffb3b3e7-f5a1-402c-a8a0-a788fdf584a8",
   "metadata": {},
   "outputs": [
    {
     "data": {
      "text/plain": [
       "{'locale_default': 'en-CA',\n",
       " 'locale_others': 'fr: fr-CA es: es-MX jp: jp-JP',\n",
       " 'title': 'Titre française'}"
      ]
     },
     "execution_count": 8,
     "metadata": {},
     "output_type": "execute_result"
    }
   ],
   "source": [
    "# get the closest french language match?\n",
    "# I don't think this is quite rfc4647, but is probably useful\n",
    "get_localized_attrs_opt1(ds_opt1.attrs, \"fr-FR\")"
   ]
  },
  {
   "cell_type": "code",
   "execution_count": 9,
   "id": "bb97f6ce-2b71-41a6-8c09-82e83f464a12",
   "metadata": {},
   "outputs": [
    {
     "data": {
      "text/plain": [
       "{'locale_default': 'en-CA',\n",
       " 'locale_others': 'fr-CA, es-MX, jp, tlh',\n",
       " 'title': 'Titre française'}"
      ]
     },
     "execution_count": 9,
     "metadata": {},
     "output_type": "execute_result"
    }
   ],
   "source": [
    "#option 2 should work the same way\n",
    "get_localized_attrs_opt2(ds_opt2.attrs, \"fr-CA\")"
   ]
  },
  {
   "cell_type": "code",
   "execution_count": 10,
   "id": "8b7b21c3-b510-4e90-8d21-80792afe8c39",
   "metadata": {},
   "outputs": [
    {
     "data": {
      "text/plain": [
       "{'locale_default': 'en-CA',\n",
       " 'locale_others': 'fr-CA, es-MX, jp, tlh',\n",
       " 'title': 'Título en español'}"
      ]
     },
     "execution_count": 10,
     "metadata": {},
     "output_type": "execute_result"
    }
   ],
   "source": [
    "get_localized_attrs_opt2(ds_opt2.attrs, \"es\")"
   ]
  },
  {
   "cell_type": "code",
   "execution_count": 11,
   "id": "426a5ee2-7626-4893-9993-b53f53e57960",
   "metadata": {},
   "outputs": [
    {
     "data": {
      "text/plain": [
       "{'locale_default': 'en-CA',\n",
       " 'locale_others': 'fr-CA, es-MX, jp, tlh',\n",
       " 'title': 'English Title'}"
      ]
     },
     "execution_count": 11,
     "metadata": {},
     "output_type": "execute_result"
    }
   ],
   "source": [
    "# garbage locale string\n",
    "get_localized_attrs_opt2(ds_opt2.attrs, \"something\")"
   ]
  },
  {
   "cell_type": "code",
   "execution_count": 12,
   "id": "e60d8f73-31bb-406b-b3df-2fee3ef1440a",
   "metadata": {},
   "outputs": [
    {
     "data": {
      "text/plain": [
       "{'locale_default': 'en-CA',\n",
       " 'locale_others': 'fr-CA, es-MX, jp, tlh',\n",
       " 'title': '日本語のタイトル'}"
      ]
     },
     "execution_count": 12,
     "metadata": {},
     "output_type": "execute_result"
    }
   ],
   "source": [
    "get_localized_attrs_opt2(ds_opt2.attrs, \"jp-JP\")"
   ]
  },
  {
   "cell_type": "code",
   "execution_count": 13,
   "id": "4f63106e-c884-4bfd-ae4d-17174c03c2df",
   "metadata": {},
   "outputs": [
    {
     "data": {
      "text/plain": [
       "{'locale_default': 'en-CA',\n",
       " 'locale_others': 'fr-CA es-MX jp tlh',\n",
       " 'title': 'Heghlu’meH QaQ jajvam'}"
      ]
     },
     "execution_count": 13,
     "metadata": {},
     "output_type": "execute_result"
    }
   ],
   "source": [
    "get_localized_attrs_opt3(ds_opt3.attrs, \"tlh\")"
   ]
  },
  {
   "cell_type": "code",
   "execution_count": 14,
   "id": "f3e5ba95-14c5-4a52-9b20-87e777c2b3b7",
   "metadata": {},
   "outputs": [
    {
     "data": {
      "text/plain": [
       "{'locale_default': 'en-CA',\n",
       " 'locale_others': 'fr-CA es-MX jp tlh',\n",
       " 'title': 'Titre française'}"
      ]
     },
     "execution_count": 14,
     "metadata": {},
     "output_type": "execute_result"
    }
   ],
   "source": [
    "get_localized_attrs_opt3(ds_opt3.attrs, \"fr-CA\")"
   ]
  },
  {
   "cell_type": "code",
   "execution_count": 15,
   "id": "7e64d2f5-2c1f-4584-96b7-a9a09d654e3a",
   "metadata": {},
   "outputs": [],
   "source": [
    "ds_opt1.to_netcdf(\"option1.nc\")"
   ]
  },
  {
   "cell_type": "code",
   "execution_count": 16,
   "id": "cca52a76-2321-44ab-ab15-652fb7c1a750",
   "metadata": {},
   "outputs": [
    {
     "name": "stdout",
     "output_type": "stream",
     "text": [
      "netcdf option1 {\n",
      "\n",
      "// global attributes:\n",
      "\t\t:locale_default = \"en-CA\" ;\n",
      "\t\t:locale_others = \"fr: fr-CA es: es-MX jp: jp-JP\" ;\n",
      "\t\t:title = \"English Title\" ;\n",
      "\t\tstring :title_fr = \"Titre française\" ;\n",
      "\t\tstring :title_es = \"Título en español\" ;\n",
      "\t\tstring :title_jp = \"日本語のタイトル\" ;\n",
      "}\n"
     ]
    }
   ],
   "source": [
    "!ncdump option1.nc"
   ]
  },
  {
   "cell_type": "code",
   "execution_count": 17,
   "id": "a794ebea-8c7b-4009-b24b-1885a5c9af50",
   "metadata": {},
   "outputs": [],
   "source": [
    "ds_opt2.to_netcdf('option2.nc')"
   ]
  },
  {
   "cell_type": "code",
   "execution_count": 18,
   "id": "5cb197a0-da26-4a10-b783-26b38dc682da",
   "metadata": {},
   "outputs": [
    {
     "name": "stdout",
     "output_type": "stream",
     "text": [
      "netcdf option2 {\n",
      "\n",
      "// global attributes:\n",
      "\t\t:locale_default = \"en-CA\" ;\n",
      "\t\t:locale_others = \"fr-CA, es-MX, jp, tlh\" ;\n",
      "\t\t:title = \"English Title\" ;\n",
      "\t\tstring :fr-CA\\:title = \"Titre française\" ;\n",
      "\t\tstring :es-MX\\:title = \"Título en español\" ;\n",
      "\t\tstring :jp\\:title = \"日本語のタイトル\" ;\n",
      "\t\tstring :tlh\\:title = \"Heghlu’meH QaQ jajvam\" ;\n",
      "}\n"
     ]
    }
   ],
   "source": [
    "!ncdump option2.nc"
   ]
  },
  {
   "cell_type": "code",
   "execution_count": 19,
   "id": "8223c1dd-f6a2-4960-b4b7-ad9934e539c2",
   "metadata": {},
   "outputs": [],
   "source": [
    "ds_opt3.to_netcdf('option3.nc')"
   ]
  },
  {
   "cell_type": "code",
   "execution_count": 20,
   "id": "3b1fc6d0-5968-4f6d-8c12-ebd7751cbe38",
   "metadata": {},
   "outputs": [
    {
     "name": "stdout",
     "output_type": "stream",
     "text": [
      "netcdf option3 {\n",
      "\n",
      "// global attributes:\n",
      "\t\t:locale_default = \"en-CA\" ;\n",
      "\t\t:locale_others = \"fr-CA es-MX jp tlh\" ;\n",
      "\t\t:title = \"English Title\" ;\n",
      "\t\tstring :title\\[fr-CA\\] = \"Titre française\" ;\n",
      "\t\tstring :title\\[es-MX\\] = \"Título en español\" ;\n",
      "\t\tstring :title\\[jp\\] = \"日本語のタイトル\" ;\n",
      "\t\tstring :title\\[tlh\\] = \"Heghlu’meH QaQ jajvam\" ;\n",
      "}\n"
     ]
    }
   ],
   "source": [
    "!ncdump option3.nc"
   ]
  },
  {
   "cell_type": "code",
   "execution_count": null,
   "id": "d3f5d3b2-3327-4a6f-a5eb-6cbcf532e932",
   "metadata": {},
   "outputs": [],
   "source": []
  }
 ],
 "metadata": {
  "kernelspec": {
   "display_name": "Python 3 (ipykernel)",
   "language": "python",
   "name": "python3"
  },
  "language_info": {
   "codemirror_mode": {
    "name": "ipython",
    "version": 3
   },
   "file_extension": ".py",
   "mimetype": "text/x-python",
   "name": "python",
   "nbconvert_exporter": "python",
   "pygments_lexer": "ipython3",
   "version": "3.11.4"
  }
 },
 "nbformat": 4,
 "nbformat_minor": 5
}
